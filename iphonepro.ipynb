{
 "cells": [
  {
   "cell_type": "code",
   "execution_count": 157,
   "id": "8a1c6bea",
   "metadata": {},
   "outputs": [],
   "source": [
    "import pandas as pd\n",
    "df = pd.read_csv(\"iphone_purchase_list.csv\")"
   ]
  },
  {
   "cell_type": "code",
   "execution_count": 158,
   "id": "5ff3473e",
   "metadata": {},
   "outputs": [
    {
     "data": {
      "text/plain": [
       "0    257\n",
       "1    143\n",
       "Name: Purchase Iphone, dtype: int64"
      ]
     },
     "execution_count": 158,
     "metadata": {},
     "output_type": "execute_result"
    }
   ],
   "source": [
    "df['Purchase Iphone'].value_counts()"
   ]
  },
  {
   "cell_type": "code",
   "execution_count": 159,
   "id": "bb8523d0",
   "metadata": {},
   "outputs": [
    {
     "data": {
      "text/html": [
       "<div>\n",
       "<style scoped>\n",
       "    .dataframe tbody tr th:only-of-type {\n",
       "        vertical-align: middle;\n",
       "    }\n",
       "\n",
       "    .dataframe tbody tr th {\n",
       "        vertical-align: top;\n",
       "    }\n",
       "\n",
       "    .dataframe thead th {\n",
       "        text-align: right;\n",
       "    }\n",
       "</style>\n",
       "<table border=\"1\" class=\"dataframe\">\n",
       "  <thead>\n",
       "    <tr style=\"text-align: right;\">\n",
       "      <th></th>\n",
       "      <th>Gender</th>\n",
       "      <th>Age</th>\n",
       "      <th>Salary</th>\n",
       "      <th>Purchase Iphone</th>\n",
       "    </tr>\n",
       "  </thead>\n",
       "  <tbody>\n",
       "    <tr>\n",
       "      <th>0</th>\n",
       "      <td>Male</td>\n",
       "      <td>19</td>\n",
       "      <td>19000</td>\n",
       "      <td>0</td>\n",
       "    </tr>\n",
       "    <tr>\n",
       "      <th>1</th>\n",
       "      <td>Male</td>\n",
       "      <td>35</td>\n",
       "      <td>20000</td>\n",
       "      <td>0</td>\n",
       "    </tr>\n",
       "    <tr>\n",
       "      <th>2</th>\n",
       "      <td>Female</td>\n",
       "      <td>26</td>\n",
       "      <td>43000</td>\n",
       "      <td>0</td>\n",
       "    </tr>\n",
       "    <tr>\n",
       "      <th>3</th>\n",
       "      <td>Female</td>\n",
       "      <td>27</td>\n",
       "      <td>57000</td>\n",
       "      <td>0</td>\n",
       "    </tr>\n",
       "    <tr>\n",
       "      <th>4</th>\n",
       "      <td>Male</td>\n",
       "      <td>19</td>\n",
       "      <td>76000</td>\n",
       "      <td>0</td>\n",
       "    </tr>\n",
       "  </tbody>\n",
       "</table>\n",
       "</div>"
      ],
      "text/plain": [
       "   Gender  Age  Salary  Purchase Iphone\n",
       "0    Male   19   19000                0\n",
       "1    Male   35   20000                0\n",
       "2  Female   26   43000                0\n",
       "3  Female   27   57000                0\n",
       "4    Male   19   76000                0"
      ]
     },
     "execution_count": 159,
     "metadata": {},
     "output_type": "execute_result"
    }
   ],
   "source": [
    "df.head()"
   ]
  },
  {
   "cell_type": "code",
   "execution_count": 160,
   "id": "51b962d7",
   "metadata": {},
   "outputs": [
    {
     "data": {
      "text/plain": [
       "(400, 4)"
      ]
     },
     "execution_count": 160,
     "metadata": {},
     "output_type": "execute_result"
    }
   ],
   "source": [
    "df.shape"
   ]
  },
  {
   "cell_type": "code",
   "execution_count": 161,
   "id": "7a66415c",
   "metadata": {},
   "outputs": [
    {
     "data": {
      "text/plain": [
       "72000     12\n",
       "80000     11\n",
       "79000     10\n",
       "75000      9\n",
       "71000      9\n",
       "          ..\n",
       "123000     1\n",
       "37000      1\n",
       "115000     1\n",
       "148000     1\n",
       "139000     1\n",
       "Name: Salary, Length: 117, dtype: int64"
      ]
     },
     "execution_count": 161,
     "metadata": {},
     "output_type": "execute_result"
    }
   ],
   "source": [
    "df['Salary'].value_counts()"
   ]
  },
  {
   "cell_type": "code",
   "execution_count": 162,
   "id": "c614ae07",
   "metadata": {},
   "outputs": [
    {
     "data": {
      "text/plain": [
       "Gender             0\n",
       "Age                0\n",
       "Salary             0\n",
       "Purchase Iphone    0\n",
       "dtype: int64"
      ]
     },
     "execution_count": 162,
     "metadata": {},
     "output_type": "execute_result"
    }
   ],
   "source": [
    "df.isnull().sum()\n",
    "    "
   ]
  },
  {
   "cell_type": "code",
   "execution_count": 163,
   "id": "95f8d666",
   "metadata": {},
   "outputs": [
    {
     "data": {
      "text/plain": [
       "72000     12\n",
       "80000     11\n",
       "79000     10\n",
       "75000      9\n",
       "71000      9\n",
       "          ..\n",
       "123000     1\n",
       "37000      1\n",
       "115000     1\n",
       "148000     1\n",
       "139000     1\n",
       "Name: Salary, Length: 117, dtype: int64"
      ]
     },
     "execution_count": 163,
     "metadata": {},
     "output_type": "execute_result"
    }
   ],
   "source": [
    "df['Salary'].value_counts()"
   ]
  },
  {
   "cell_type": "code",
   "execution_count": 164,
   "id": "43786f35",
   "metadata": {},
   "outputs": [
    {
     "data": {
      "text/plain": [
       "0      0\n",
       "1      0\n",
       "2      0\n",
       "3      0\n",
       "4      0\n",
       "      ..\n",
       "395    1\n",
       "396    1\n",
       "397    1\n",
       "398    0\n",
       "399    1\n",
       "Name: Purchase Iphone, Length: 400, dtype: int64"
      ]
     },
     "execution_count": 164,
     "metadata": {},
     "output_type": "execute_result"
    }
   ],
   "source": [
    "df['Purchase Iphone']"
   ]
  },
  {
   "cell_type": "code",
   "execution_count": 165,
   "id": "a6e68fa8",
   "metadata": {},
   "outputs": [
    {
     "data": {
      "text/plain": [
       "0    257\n",
       "1    143\n",
       "Name: Purchase Iphone, dtype: int64"
      ]
     },
     "execution_count": 165,
     "metadata": {},
     "output_type": "execute_result"
    }
   ],
   "source": [
    "df['Purchase Iphone'].value_counts()"
   ]
  },
  {
   "cell_type": "code",
   "execution_count": 166,
   "id": "9fe4d2c3",
   "metadata": {},
   "outputs": [
    {
     "data": {
      "text/plain": [
       "(43, 4)"
      ]
     },
     "execution_count": 166,
     "metadata": {},
     "output_type": "execute_result"
    }
   ],
   "source": [
    "iphone11=df.loc[(df['Purchase Iphone']==1) & (df['Salary']<50000)]\n",
    "iphone11=pd.DataFrame(iphone11)\n",
    "iphone11['Purchase Iphone']='iphone11'\n",
    "iphone11.shape"
   ]
  },
  {
   "cell_type": "code",
   "execution_count": 167,
   "id": "114c4a3f",
   "metadata": {},
   "outputs": [
    {
     "data": {
      "text/plain": [
       "(15, 4)"
      ]
     },
     "execution_count": 167,
     "metadata": {},
     "output_type": "execute_result"
    }
   ],
   "source": [
    "iphone12=df.loc[(df['Purchase Iphone']==1)&(df['Salary']>50000) & (df['Salary']<80000)]\n",
    "iphone12=pd.DataFrame(iphone12)\n",
    "iphone12['Purchase Iphone']='iphone12'\n",
    "iphone12.shape"
   ]
  },
  {
   "cell_type": "code",
   "execution_count": 168,
   "id": "b60fd19f",
   "metadata": {},
   "outputs": [
    {
     "data": {
      "text/plain": [
       "(20, 4)"
      ]
     },
     "execution_count": 168,
     "metadata": {},
     "output_type": "execute_result"
    }
   ],
   "source": [
    "iphone13=df.loc[(df['Purchase Iphone']==1)&(df['Salary']>80000) & (df['Salary']<100000)]\n",
    "iphone13=pd.DataFrame(iphone13)\n",
    "iphone13['Purchase Iphone']='iphone13'\n",
    "iphone13.shape"
   ]
  },
  {
   "cell_type": "code",
   "execution_count": 14,
   "id": "2167c1ac",
   "metadata": {},
   "outputs": [
    {
     "data": {
      "text/plain": [
       "(62, 4)"
      ]
     },
     "execution_count": 14,
     "metadata": {},
     "output_type": "execute_result"
    }
   ],
   "source": [
    "iphone13max=df.loc[(df['Purchase Iphone']==1)&(df['Salary']>100000)]\n",
    "iphone13max=pd.DataFrame(iphone13max)\n",
    "iphone13max['Purchase Iphone']='iphone13max'\n",
    "iphone13max.shape"
   ]
  },
  {
   "cell_type": "code",
   "execution_count": 15,
   "id": "22215047",
   "metadata": {},
   "outputs": [
    {
     "data": {
      "text/plain": [
       "(257, 4)"
      ]
     },
     "execution_count": 15,
     "metadata": {},
     "output_type": "execute_result"
    }
   ],
   "source": [
    "noiphone=df.loc[(df['Purchase Iphone']==0)]\n",
    "noiphone.shape"
   ]
  },
  {
   "cell_type": "code",
   "execution_count": 16,
   "id": "a0cefae2",
   "metadata": {},
   "outputs": [],
   "source": [
    "iphone=pd.concat([iphone11,iphone12,iphone13,iphone13max,noiphone],axis=0)"
   ]
  },
  {
   "cell_type": "code",
   "execution_count": 17,
   "id": "5ef67fc2",
   "metadata": {},
   "outputs": [
    {
     "data": {
      "text/html": [
       "<div>\n",
       "<style scoped>\n",
       "    .dataframe tbody tr th:only-of-type {\n",
       "        vertical-align: middle;\n",
       "    }\n",
       "\n",
       "    .dataframe tbody tr th {\n",
       "        vertical-align: top;\n",
       "    }\n",
       "\n",
       "    .dataframe thead th {\n",
       "        text-align: right;\n",
       "    }\n",
       "</style>\n",
       "<table border=\"1\" class=\"dataframe\">\n",
       "  <thead>\n",
       "    <tr style=\"text-align: right;\">\n",
       "      <th></th>\n",
       "      <th>Gender</th>\n",
       "      <th>Age</th>\n",
       "      <th>Salary</th>\n",
       "      <th>Purchase Iphone</th>\n",
       "    </tr>\n",
       "  </thead>\n",
       "  <tbody>\n",
       "    <tr>\n",
       "      <th>16</th>\n",
       "      <td>Male</td>\n",
       "      <td>47</td>\n",
       "      <td>25000</td>\n",
       "      <td>iphone11</td>\n",
       "    </tr>\n",
       "    <tr>\n",
       "      <th>17</th>\n",
       "      <td>Male</td>\n",
       "      <td>45</td>\n",
       "      <td>26000</td>\n",
       "      <td>iphone11</td>\n",
       "    </tr>\n",
       "    <tr>\n",
       "      <th>18</th>\n",
       "      <td>Male</td>\n",
       "      <td>46</td>\n",
       "      <td>28000</td>\n",
       "      <td>iphone11</td>\n",
       "    </tr>\n",
       "    <tr>\n",
       "      <th>19</th>\n",
       "      <td>Female</td>\n",
       "      <td>48</td>\n",
       "      <td>29000</td>\n",
       "      <td>iphone11</td>\n",
       "    </tr>\n",
       "    <tr>\n",
       "      <th>20</th>\n",
       "      <td>Male</td>\n",
       "      <td>45</td>\n",
       "      <td>22000</td>\n",
       "      <td>iphone11</td>\n",
       "    </tr>\n",
       "    <tr>\n",
       "      <th>...</th>\n",
       "      <td>...</td>\n",
       "      <td>...</td>\n",
       "      <td>...</td>\n",
       "      <td>...</td>\n",
       "    </tr>\n",
       "    <tr>\n",
       "      <th>377</th>\n",
       "      <td>Female</td>\n",
       "      <td>42</td>\n",
       "      <td>53000</td>\n",
       "      <td>0</td>\n",
       "    </tr>\n",
       "    <tr>\n",
       "      <th>380</th>\n",
       "      <td>Male</td>\n",
       "      <td>42</td>\n",
       "      <td>64000</td>\n",
       "      <td>0</td>\n",
       "    </tr>\n",
       "    <tr>\n",
       "      <th>387</th>\n",
       "      <td>Male</td>\n",
       "      <td>39</td>\n",
       "      <td>71000</td>\n",
       "      <td>0</td>\n",
       "    </tr>\n",
       "    <tr>\n",
       "      <th>394</th>\n",
       "      <td>Female</td>\n",
       "      <td>39</td>\n",
       "      <td>59000</td>\n",
       "      <td>0</td>\n",
       "    </tr>\n",
       "    <tr>\n",
       "      <th>398</th>\n",
       "      <td>Male</td>\n",
       "      <td>36</td>\n",
       "      <td>33000</td>\n",
       "      <td>0</td>\n",
       "    </tr>\n",
       "  </tbody>\n",
       "</table>\n",
       "<p>397 rows × 4 columns</p>\n",
       "</div>"
      ],
      "text/plain": [
       "     Gender  Age  Salary Purchase Iphone\n",
       "16     Male   47   25000        iphone11\n",
       "17     Male   45   26000        iphone11\n",
       "18     Male   46   28000        iphone11\n",
       "19   Female   48   29000        iphone11\n",
       "20     Male   45   22000        iphone11\n",
       "..      ...  ...     ...             ...\n",
       "377  Female   42   53000               0\n",
       "380    Male   42   64000               0\n",
       "387    Male   39   71000               0\n",
       "394  Female   39   59000               0\n",
       "398    Male   36   33000               0\n",
       "\n",
       "[397 rows x 4 columns]"
      ]
     },
     "execution_count": 17,
     "metadata": {},
     "output_type": "execute_result"
    }
   ],
   "source": [
    "iphone"
   ]
  },
  {
   "cell_type": "code",
   "execution_count": 146,
   "id": "485a664a",
   "metadata": {},
   "outputs": [],
   "source": [
    "iphone.to_csv('raymon.csv')"
   ]
  },
  {
   "cell_type": "code",
   "execution_count": 147,
   "id": "7a39f96f",
   "metadata": {},
   "outputs": [
    {
     "data": {
      "text/html": [
       "<div>\n",
       "<style scoped>\n",
       "    .dataframe tbody tr th:only-of-type {\n",
       "        vertical-align: middle;\n",
       "    }\n",
       "\n",
       "    .dataframe tbody tr th {\n",
       "        vertical-align: top;\n",
       "    }\n",
       "\n",
       "    .dataframe thead th {\n",
       "        text-align: right;\n",
       "    }\n",
       "</style>\n",
       "<table border=\"1\" class=\"dataframe\">\n",
       "  <thead>\n",
       "    <tr style=\"text-align: right;\">\n",
       "      <th></th>\n",
       "      <th>Unnamed: 0</th>\n",
       "      <th>Gender</th>\n",
       "      <th>Age</th>\n",
       "      <th>Salary</th>\n",
       "      <th>Purchase Iphone</th>\n",
       "    </tr>\n",
       "  </thead>\n",
       "  <tbody>\n",
       "    <tr>\n",
       "      <th>0</th>\n",
       "      <td>16</td>\n",
       "      <td>Male</td>\n",
       "      <td>47</td>\n",
       "      <td>25000</td>\n",
       "      <td>iphone11</td>\n",
       "    </tr>\n",
       "    <tr>\n",
       "      <th>1</th>\n",
       "      <td>17</td>\n",
       "      <td>Male</td>\n",
       "      <td>45</td>\n",
       "      <td>26000</td>\n",
       "      <td>iphone11</td>\n",
       "    </tr>\n",
       "    <tr>\n",
       "      <th>2</th>\n",
       "      <td>18</td>\n",
       "      <td>Male</td>\n",
       "      <td>46</td>\n",
       "      <td>28000</td>\n",
       "      <td>iphone11</td>\n",
       "    </tr>\n",
       "    <tr>\n",
       "      <th>3</th>\n",
       "      <td>19</td>\n",
       "      <td>Female</td>\n",
       "      <td>48</td>\n",
       "      <td>29000</td>\n",
       "      <td>iphone11</td>\n",
       "    </tr>\n",
       "    <tr>\n",
       "      <th>4</th>\n",
       "      <td>20</td>\n",
       "      <td>Male</td>\n",
       "      <td>45</td>\n",
       "      <td>22000</td>\n",
       "      <td>iphone11</td>\n",
       "    </tr>\n",
       "    <tr>\n",
       "      <th>...</th>\n",
       "      <td>...</td>\n",
       "      <td>...</td>\n",
       "      <td>...</td>\n",
       "      <td>...</td>\n",
       "      <td>...</td>\n",
       "    </tr>\n",
       "    <tr>\n",
       "      <th>392</th>\n",
       "      <td>377</td>\n",
       "      <td>Female</td>\n",
       "      <td>42</td>\n",
       "      <td>53000</td>\n",
       "      <td>0</td>\n",
       "    </tr>\n",
       "    <tr>\n",
       "      <th>393</th>\n",
       "      <td>380</td>\n",
       "      <td>Male</td>\n",
       "      <td>42</td>\n",
       "      <td>64000</td>\n",
       "      <td>0</td>\n",
       "    </tr>\n",
       "    <tr>\n",
       "      <th>394</th>\n",
       "      <td>387</td>\n",
       "      <td>Male</td>\n",
       "      <td>39</td>\n",
       "      <td>71000</td>\n",
       "      <td>0</td>\n",
       "    </tr>\n",
       "    <tr>\n",
       "      <th>395</th>\n",
       "      <td>394</td>\n",
       "      <td>Female</td>\n",
       "      <td>39</td>\n",
       "      <td>59000</td>\n",
       "      <td>0</td>\n",
       "    </tr>\n",
       "    <tr>\n",
       "      <th>396</th>\n",
       "      <td>398</td>\n",
       "      <td>Male</td>\n",
       "      <td>36</td>\n",
       "      <td>33000</td>\n",
       "      <td>0</td>\n",
       "    </tr>\n",
       "  </tbody>\n",
       "</table>\n",
       "<p>397 rows × 5 columns</p>\n",
       "</div>"
      ],
      "text/plain": [
       "     Unnamed: 0  Gender  Age  Salary Purchase Iphone\n",
       "0            16    Male   47   25000        iphone11\n",
       "1            17    Male   45   26000        iphone11\n",
       "2            18    Male   46   28000        iphone11\n",
       "3            19  Female   48   29000        iphone11\n",
       "4            20    Male   45   22000        iphone11\n",
       "..          ...     ...  ...     ...             ...\n",
       "392         377  Female   42   53000               0\n",
       "393         380    Male   42   64000               0\n",
       "394         387    Male   39   71000               0\n",
       "395         394  Female   39   59000               0\n",
       "396         398    Male   36   33000               0\n",
       "\n",
       "[397 rows x 5 columns]"
      ]
     },
     "execution_count": 147,
     "metadata": {},
     "output_type": "execute_result"
    }
   ],
   "source": [
    "df1=pd.read_csv('raymon.csv')\n",
    "df1"
   ]
  },
  {
   "cell_type": "code",
   "execution_count": 148,
   "id": "9efbf64f",
   "metadata": {},
   "outputs": [],
   "source": [
    "df1['Purchase Iphone'].replace(['iphone11','iphone12','iphone13','iphone13max'],[1,2,3,4],inplace=True)\n",
    "df1['Gender'].replace(['Male','Female'],[0,1],inplace=True)"
   ]
  },
  {
   "cell_type": "code",
   "execution_count": 149,
   "id": "c998bc9e",
   "metadata": {},
   "outputs": [
    {
     "data": {
      "text/html": [
       "<div>\n",
       "<style scoped>\n",
       "    .dataframe tbody tr th:only-of-type {\n",
       "        vertical-align: middle;\n",
       "    }\n",
       "\n",
       "    .dataframe tbody tr th {\n",
       "        vertical-align: top;\n",
       "    }\n",
       "\n",
       "    .dataframe thead th {\n",
       "        text-align: right;\n",
       "    }\n",
       "</style>\n",
       "<table border=\"1\" class=\"dataframe\">\n",
       "  <thead>\n",
       "    <tr style=\"text-align: right;\">\n",
       "      <th></th>\n",
       "      <th>Unnamed: 0</th>\n",
       "      <th>Gender</th>\n",
       "      <th>Age</th>\n",
       "      <th>Salary</th>\n",
       "      <th>Purchase Iphone</th>\n",
       "    </tr>\n",
       "  </thead>\n",
       "  <tbody>\n",
       "    <tr>\n",
       "      <th>0</th>\n",
       "      <td>16</td>\n",
       "      <td>0</td>\n",
       "      <td>47</td>\n",
       "      <td>25000</td>\n",
       "      <td>1</td>\n",
       "    </tr>\n",
       "    <tr>\n",
       "      <th>1</th>\n",
       "      <td>17</td>\n",
       "      <td>0</td>\n",
       "      <td>45</td>\n",
       "      <td>26000</td>\n",
       "      <td>1</td>\n",
       "    </tr>\n",
       "    <tr>\n",
       "      <th>2</th>\n",
       "      <td>18</td>\n",
       "      <td>0</td>\n",
       "      <td>46</td>\n",
       "      <td>28000</td>\n",
       "      <td>1</td>\n",
       "    </tr>\n",
       "    <tr>\n",
       "      <th>3</th>\n",
       "      <td>19</td>\n",
       "      <td>1</td>\n",
       "      <td>48</td>\n",
       "      <td>29000</td>\n",
       "      <td>1</td>\n",
       "    </tr>\n",
       "    <tr>\n",
       "      <th>4</th>\n",
       "      <td>20</td>\n",
       "      <td>0</td>\n",
       "      <td>45</td>\n",
       "      <td>22000</td>\n",
       "      <td>1</td>\n",
       "    </tr>\n",
       "  </tbody>\n",
       "</table>\n",
       "</div>"
      ],
      "text/plain": [
       "   Unnamed: 0  Gender  Age  Salary Purchase Iphone\n",
       "0          16       0   47   25000               1\n",
       "1          17       0   45   26000               1\n",
       "2          18       0   46   28000               1\n",
       "3          19       1   48   29000               1\n",
       "4          20       0   45   22000               1"
      ]
     },
     "execution_count": 149,
     "metadata": {},
     "output_type": "execute_result"
    }
   ],
   "source": [
    "df1.head()"
   ]
  },
  {
   "cell_type": "code",
   "execution_count": 150,
   "id": "099ac4f6",
   "metadata": {},
   "outputs": [],
   "source": [
    "df1.drop('Unnamed: 0',axis=1,inplace=True)\n"
   ]
  },
  {
   "cell_type": "code",
   "execution_count": 151,
   "id": "98425026",
   "metadata": {},
   "outputs": [
    {
     "data": {
      "text/html": [
       "<div>\n",
       "<style scoped>\n",
       "    .dataframe tbody tr th:only-of-type {\n",
       "        vertical-align: middle;\n",
       "    }\n",
       "\n",
       "    .dataframe tbody tr th {\n",
       "        vertical-align: top;\n",
       "    }\n",
       "\n",
       "    .dataframe thead th {\n",
       "        text-align: right;\n",
       "    }\n",
       "</style>\n",
       "<table border=\"1\" class=\"dataframe\">\n",
       "  <thead>\n",
       "    <tr style=\"text-align: right;\">\n",
       "      <th></th>\n",
       "      <th>Gender</th>\n",
       "      <th>Age</th>\n",
       "      <th>Salary</th>\n",
       "      <th>Purchase Iphone</th>\n",
       "    </tr>\n",
       "  </thead>\n",
       "  <tbody>\n",
       "    <tr>\n",
       "      <th>0</th>\n",
       "      <td>0</td>\n",
       "      <td>47</td>\n",
       "      <td>25000</td>\n",
       "      <td>1</td>\n",
       "    </tr>\n",
       "    <tr>\n",
       "      <th>1</th>\n",
       "      <td>0</td>\n",
       "      <td>45</td>\n",
       "      <td>26000</td>\n",
       "      <td>1</td>\n",
       "    </tr>\n",
       "    <tr>\n",
       "      <th>2</th>\n",
       "      <td>0</td>\n",
       "      <td>46</td>\n",
       "      <td>28000</td>\n",
       "      <td>1</td>\n",
       "    </tr>\n",
       "    <tr>\n",
       "      <th>3</th>\n",
       "      <td>1</td>\n",
       "      <td>48</td>\n",
       "      <td>29000</td>\n",
       "      <td>1</td>\n",
       "    </tr>\n",
       "    <tr>\n",
       "      <th>4</th>\n",
       "      <td>0</td>\n",
       "      <td>45</td>\n",
       "      <td>22000</td>\n",
       "      <td>1</td>\n",
       "    </tr>\n",
       "    <tr>\n",
       "      <th>...</th>\n",
       "      <td>...</td>\n",
       "      <td>...</td>\n",
       "      <td>...</td>\n",
       "      <td>...</td>\n",
       "    </tr>\n",
       "    <tr>\n",
       "      <th>392</th>\n",
       "      <td>1</td>\n",
       "      <td>42</td>\n",
       "      <td>53000</td>\n",
       "      <td>0</td>\n",
       "    </tr>\n",
       "    <tr>\n",
       "      <th>393</th>\n",
       "      <td>0</td>\n",
       "      <td>42</td>\n",
       "      <td>64000</td>\n",
       "      <td>0</td>\n",
       "    </tr>\n",
       "    <tr>\n",
       "      <th>394</th>\n",
       "      <td>0</td>\n",
       "      <td>39</td>\n",
       "      <td>71000</td>\n",
       "      <td>0</td>\n",
       "    </tr>\n",
       "    <tr>\n",
       "      <th>395</th>\n",
       "      <td>1</td>\n",
       "      <td>39</td>\n",
       "      <td>59000</td>\n",
       "      <td>0</td>\n",
       "    </tr>\n",
       "    <tr>\n",
       "      <th>396</th>\n",
       "      <td>0</td>\n",
       "      <td>36</td>\n",
       "      <td>33000</td>\n",
       "      <td>0</td>\n",
       "    </tr>\n",
       "  </tbody>\n",
       "</table>\n",
       "<p>397 rows × 4 columns</p>\n",
       "</div>"
      ],
      "text/plain": [
       "     Gender  Age  Salary Purchase Iphone\n",
       "0         0   47   25000               1\n",
       "1         0   45   26000               1\n",
       "2         0   46   28000               1\n",
       "3         1   48   29000               1\n",
       "4         0   45   22000               1\n",
       "..      ...  ...     ...             ...\n",
       "392       1   42   53000               0\n",
       "393       0   42   64000               0\n",
       "394       0   39   71000               0\n",
       "395       1   39   59000               0\n",
       "396       0   36   33000               0\n",
       "\n",
       "[397 rows x 4 columns]"
      ]
     },
     "execution_count": 151,
     "metadata": {},
     "output_type": "execute_result"
    }
   ],
   "source": [
    "df1"
   ]
  },
  {
   "cell_type": "code",
   "execution_count": 115,
   "id": "980136ee",
   "metadata": {},
   "outputs": [
    {
     "data": {
      "text/plain": [
       "0    257\n",
       "4     62\n",
       "1     43\n",
       "3     20\n",
       "2     15\n",
       "Name: Purchase Iphone, dtype: int64"
      ]
     },
     "execution_count": 115,
     "metadata": {},
     "output_type": "execute_result"
    }
   ],
   "source": [
    "df1['Purchase Iphone'].value_counts()"
   ]
  },
  {
   "cell_type": "code",
   "execution_count": 116,
   "id": "ff33c611",
   "metadata": {},
   "outputs": [
    {
     "data": {
      "text/plain": [
       "Female    204\n",
       "Male      196\n",
       "Name: Gender, dtype: int64"
      ]
     },
     "execution_count": 116,
     "metadata": {},
     "output_type": "execute_result"
    }
   ],
   "source": [
    "df['Gender'].value_counts()"
   ]
  },
  {
   "cell_type": "code",
   "execution_count": 25,
   "id": "1b9f9f24",
   "metadata": {},
   "outputs": [],
   "source": [
    "X=df1.drop('Purchase Iphone',axis=1)\n",
    "y=df1.pop('Purchase Iphone')"
   ]
  },
  {
   "cell_type": "code",
   "execution_count": 26,
   "id": "e7cb0267",
   "metadata": {},
   "outputs": [],
   "source": [
    "y=y.astype(int)"
   ]
  },
  {
   "cell_type": "markdown",
   "id": "847922cc",
   "metadata": {},
   "source": [
    "### Splitting data"
   ]
  },
  {
   "cell_type": "code",
   "execution_count": 27,
   "id": "62f4fb52",
   "metadata": {},
   "outputs": [],
   "source": [
    "from sklearn.model_selection import train_test_split\n",
    "X_train,X_test,y_train,y_test=train_test_split(X,y,test_size=0.20,random_state=42)"
   ]
  },
  {
   "cell_type": "markdown",
   "id": "8f7f073a",
   "metadata": {},
   "source": [
    "### MultinomialNB"
   ]
  },
  {
   "cell_type": "code",
   "execution_count": 28,
   "id": "619079b1",
   "metadata": {},
   "outputs": [],
   "source": [
    "from sklearn.naive_bayes import MultinomialNB\n",
    "clf = MultinomialNB()"
   ]
  },
  {
   "cell_type": "code",
   "execution_count": 29,
   "id": "718fa3da",
   "metadata": {},
   "outputs": [
    {
     "data": {
      "text/plain": [
       "MultinomialNB()"
      ]
     },
     "execution_count": 29,
     "metadata": {},
     "output_type": "execute_result"
    }
   ],
   "source": [
    "clf.fit(X_train,y_train)"
   ]
  },
  {
   "cell_type": "code",
   "execution_count": 30,
   "id": "d019217e",
   "metadata": {},
   "outputs": [],
   "source": [
    "y_pred = clf.predict(X_test)"
   ]
  },
  {
   "cell_type": "code",
   "execution_count": 31,
   "id": "2e339ad5",
   "metadata": {},
   "outputs": [
    {
     "name": "stdout",
     "output_type": "stream",
     "text": [
      "Accuracy Score is = 0.7125\n"
     ]
    }
   ],
   "source": [
    "from sklearn.metrics import accuracy_score, classification_report\n",
    "print(\"Accuracy Score is =\", accuracy_score(y_test, y_pred))"
   ]
  },
  {
   "cell_type": "markdown",
   "id": "e63fde9b",
   "metadata": {},
   "source": [
    "### SVC"
   ]
  },
  {
   "cell_type": "code",
   "execution_count": 32,
   "id": "f73c6ba5",
   "metadata": {},
   "outputs": [],
   "source": [
    "from sklearn.multiclass import OneVsRestClassifier\n",
    "from sklearn.svm import SVC\n",
    "from sklearn.metrics import accuracy_score, classification_report\n",
    "from sklearn.model_selection import train_test_split\n",
    "import warnings"
   ]
  },
  {
   "cell_type": "code",
   "execution_count": 33,
   "id": "1992fef5",
   "metadata": {},
   "outputs": [
    {
     "name": "stdout",
     "output_type": "stream",
     "text": [
      "Test Set Accuracy : 68.75 %\n",
      "\n",
      "\n",
      "Classification Report : \n",
      "\n",
      "              precision    recall  f1-score   support\n",
      "\n",
      "           0       0.66      0.96      0.78        46\n",
      "           1       0.00      0.00      0.00        13\n",
      "           2       0.00      0.00      0.00         5\n",
      "           3       0.00      0.00      0.00         5\n",
      "           4       0.85      1.00      0.92        11\n",
      "\n",
      "    accuracy                           0.69        80\n",
      "   macro avg       0.30      0.39      0.34        80\n",
      "weighted avg       0.49      0.69      0.57        80\n",
      "\n"
     ]
    },
    {
     "name": "stderr",
     "output_type": "stream",
     "text": [
      "C:\\Users\\antoj\\anaconda3\\lib\\site-packages\\sklearn\\metrics\\_classification.py:1245: UndefinedMetricWarning: Precision and F-score are ill-defined and being set to 0.0 in labels with no predicted samples. Use `zero_division` parameter to control this behavior.\n",
      "  _warn_prf(average, modifier, msg_start, len(result))\n",
      "C:\\Users\\antoj\\anaconda3\\lib\\site-packages\\sklearn\\metrics\\_classification.py:1245: UndefinedMetricWarning: Precision and F-score are ill-defined and being set to 0.0 in labels with no predicted samples. Use `zero_division` parameter to control this behavior.\n",
      "  _warn_prf(average, modifier, msg_start, len(result))\n",
      "C:\\Users\\antoj\\anaconda3\\lib\\site-packages\\sklearn\\metrics\\_classification.py:1245: UndefinedMetricWarning: Precision and F-score are ill-defined and being set to 0.0 in labels with no predicted samples. Use `zero_division` parameter to control this behavior.\n",
      "  _warn_prf(average, modifier, msg_start, len(result))\n"
     ]
    }
   ],
   "source": [
    "model = OneVsRestClassifier(SVC())\n",
    "   \n",
    "# Fitting the model with training data\n",
    "model.fit(X_train, y_train)\n",
    "   \n",
    "# Making a prediction on the test set\n",
    "prediction = model.predict(X_test)\n",
    "   \n",
    "# Evaluating the model\n",
    "print(f\"Test Set Accuracy : {accuracy_score(y_test, prediction) * 100} %\\n\\n\")\n",
    "print(f\"Classification Report : \\n\\n{classification_report( y_test, prediction)}\")"
   ]
  },
  {
   "cell_type": "markdown",
   "id": "f11f3785",
   "metadata": {},
   "source": [
    "### Logistic One VS Rest"
   ]
  },
  {
   "cell_type": "code",
   "execution_count": 34,
   "id": "be2389dc",
   "metadata": {},
   "outputs": [],
   "source": [
    "from sklearn.linear_model import LogisticRegression\n",
    "from sklearn import datasets\n",
    "from sklearn.preprocessing import StandardScaler"
   ]
  },
  {
   "cell_type": "code",
   "execution_count": 35,
   "id": "8ede1946",
   "metadata": {},
   "outputs": [],
   "source": [
    "scaler = StandardScaler()\n",
    "X_trainss = scaler.fit_transform(X_train)\n",
    "X_testss=scaler.transform(X_test)"
   ]
  },
  {
   "cell_type": "code",
   "execution_count": 36,
   "id": "456540d4",
   "metadata": {},
   "outputs": [],
   "source": [
    "lo = LogisticRegression(random_state=0, multi_class='ovr')"
   ]
  },
  {
   "cell_type": "code",
   "execution_count": 37,
   "id": "c736e165",
   "metadata": {},
   "outputs": [],
   "source": [
    "model = lo.fit(X_trainss, y_train)\n",
    "y_predss=model.predict(X_testss)"
   ]
  },
  {
   "cell_type": "code",
   "execution_count": 38,
   "id": "1024ed32",
   "metadata": {},
   "outputs": [
    {
     "data": {
      "text/plain": [
       "array([[3.81398638e-02, 4.84669574e-05, 2.65789978e-02, 1.16877845e-01,\n",
       "        8.18354826e-01],\n",
       "       [8.83342055e-01, 8.10973095e-02, 1.66711069e-02, 1.86046979e-02,\n",
       "        2.84830349e-04],\n",
       "       [9.17627122e-01, 2.06740441e-02, 2.98535070e-02, 2.91591843e-02,\n",
       "        2.68614278e-03],\n",
       "       [8.93803833e-02, 6.31384558e-01, 1.47028736e-01, 1.03177357e-01,\n",
       "        2.90289660e-02],\n",
       "       [2.32336502e-01, 1.32797131e-01, 1.37791647e-01, 2.15278358e-01,\n",
       "        2.81796363e-01],\n",
       "       [7.70473922e-01, 9.36705744e-03, 6.13402579e-02, 7.96460087e-02,\n",
       "        7.91727540e-02],\n",
       "       [6.97120723e-01, 3.21150049e-03, 3.72211320e-02, 8.67409103e-02,\n",
       "        1.75705734e-01],\n",
       "       [9.34808228e-01, 9.02556983e-04, 1.90383483e-02, 2.93784494e-02,\n",
       "        1.58724172e-02],\n",
       "       [9.66000768e-01, 1.88496319e-05, 6.28866112e-03, 1.52074869e-02,\n",
       "        1.24842347e-02],\n",
       "       [6.00866989e-01, 3.09802528e-02, 1.07076866e-01, 1.26151493e-01,\n",
       "        1.34924398e-01],\n",
       "       [4.18620628e-01, 5.16727567e-01, 4.39280427e-02, 2.05698313e-02,\n",
       "        1.53930737e-04],\n",
       "       [8.79543508e-01, 7.47335448e-03, 3.97915868e-02, 4.93433620e-02,\n",
       "        2.38481887e-02],\n",
       "       [2.47088780e-01, 1.81270658e-06, 8.79169533e-03, 5.72346184e-02,\n",
       "        6.86883094e-01],\n",
       "       [2.36728478e-01, 3.31299395e-02, 1.41444989e-01, 1.74942921e-01,\n",
       "        4.13753673e-01],\n",
       "       [8.93478808e-01, 2.73304112e-02, 2.84742315e-02, 4.34268460e-02,\n",
       "        7.28970370e-03],\n",
       "       [9.39343961e-01, 2.75161395e-04, 1.44220673e-02, 2.58906129e-02,\n",
       "        2.00681975e-02],\n",
       "       [4.47083287e-01, 4.79872343e-01, 3.85018740e-02, 3.36832993e-02,\n",
       "        8.59196337e-04],\n",
       "       [6.39795871e-01, 1.66121594e-01, 9.53851061e-02, 8.17577709e-02,\n",
       "        1.69396580e-02],\n",
       "       [9.82167767e-01, 3.70693574e-04, 5.07045714e-03, 1.15363647e-02,\n",
       "        8.54717626e-04],\n",
       "       [9.84894059e-01, 3.83788055e-03, 4.57481424e-03, 6.66251397e-03,\n",
       "        3.07322915e-05],\n",
       "       [3.98523951e-01, 5.24218563e-01, 4.11614162e-02, 3.51790024e-02,\n",
       "        9.17067088e-04],\n",
       "       [8.86639160e-01, 8.51377923e-02, 1.69760804e-02, 1.12013999e-02,\n",
       "        4.55677778e-05],\n",
       "       [9.48522786e-01, 5.64797293e-03, 1.51003130e-02, 2.67652004e-02,\n",
       "        3.96372804e-03],\n",
       "       [4.24139922e-01, 5.05250466e-01, 4.67417661e-02, 2.35966019e-02,\n",
       "        2.71243242e-04],\n",
       "       [6.17521452e-02, 1.32508920e-05, 3.09609208e-02, 1.07085177e-01,\n",
       "        8.00188507e-01],\n",
       "       [8.07167933e-01, 8.18687216e-02, 5.60121411e-02, 4.88850264e-02,\n",
       "        6.06617767e-03],\n",
       "       [3.11366110e-01, 6.26481358e-07, 6.34803162e-03, 4.69806614e-02,\n",
       "        6.35304570e-01],\n",
       "       [4.49280987e-01, 4.63236310e-01, 5.49463043e-02, 3.17460918e-02,\n",
       "        7.90307338e-04],\n",
       "       [9.08696978e-01, 2.08725049e-02, 3.32340494e-02, 3.31643725e-02,\n",
       "        4.03209484e-03],\n",
       "       [9.34950389e-01, 2.09778573e-02, 2.25767832e-02, 2.06670583e-02,\n",
       "        8.27912603e-04],\n",
       "       [5.35755573e-01, 3.90256709e-06, 9.11861278e-03, 3.18474908e-02,\n",
       "        4.23274421e-01],\n",
       "       [8.63653270e-01, 3.90786724e-02, 4.62244394e-02, 4.42453699e-02,\n",
       "        6.79824800e-03],\n",
       "       [8.75534011e-01, 1.06966635e-02, 3.09472065e-02, 5.65529959e-02,\n",
       "        2.62691230e-02],\n",
       "       [8.44342129e-01, 1.32538429e-02, 5.13079724e-02, 6.05939223e-02,\n",
       "        3.05021338e-02],\n",
       "       [6.78014872e-01, 4.69612237e-03, 6.11746433e-02, 8.94211539e-02,\n",
       "        1.66693208e-01],\n",
       "       [8.06778885e-01, 7.54238507e-03, 5.32015986e-02, 6.97505807e-02,\n",
       "        6.27265507e-02],\n",
       "       [9.27570004e-01, 9.00565774e-03, 2.76280871e-02, 3.07506152e-02,\n",
       "        5.04563555e-03],\n",
       "       [9.74899152e-01, 1.34015807e-03, 7.60360463e-03, 1.50262045e-02,\n",
       "        1.13088105e-03],\n",
       "       [4.48606603e-02, 2.78585305e-03, 5.11794472e-02, 1.28890593e-01,\n",
       "        7.72283446e-01],\n",
       "       [2.35145394e-01, 7.45383531e-05, 2.74493335e-02, 7.04861969e-02,\n",
       "        6.66844537e-01],\n",
       "       [2.54016533e-01, 6.64065093e-01, 4.87487310e-02, 3.27746961e-02,\n",
       "        3.94946784e-04],\n",
       "       [9.45667518e-01, 1.54178456e-04, 1.21179626e-02, 2.32289583e-02,\n",
       "        1.88313827e-02],\n",
       "       [1.45811091e-01, 4.08246118e-01, 1.88786984e-01, 1.59047035e-01,\n",
       "        9.81087726e-02],\n",
       "       [8.75534011e-01, 1.06966635e-02, 3.09472065e-02, 5.65529959e-02,\n",
       "        2.62691230e-02],\n",
       "       [9.45507231e-01, 3.69433197e-03, 1.51780221e-02, 2.90340182e-02,\n",
       "        6.58639626e-03],\n",
       "       [1.94174871e-02, 3.34778899e-01, 1.86286414e-01, 1.65962053e-01,\n",
       "        2.93555147e-01],\n",
       "       [7.59273295e-03, 1.25549037e-04, 6.26579670e-02, 1.63216814e-01,\n",
       "        7.66406937e-01],\n",
       "       [8.95402410e-01, 6.14166709e-03, 3.52031536e-02, 4.40686568e-02,\n",
       "        1.91841130e-02],\n",
       "       [6.32353556e-01, 2.71782989e-01, 4.45869758e-02, 4.82480865e-02,\n",
       "        3.02839324e-03],\n",
       "       [5.25711051e-01, 5.56407112e-05, 1.92855684e-02, 4.88266572e-02,\n",
       "        4.06121083e-01],\n",
       "       [9.64516679e-01, 1.03360642e-02, 1.30370900e-02, 1.19483702e-02,\n",
       "        1.61796866e-04],\n",
       "       [6.39057211e-01, 2.87925804e-01, 3.56182515e-02, 3.60740452e-02,\n",
       "        1.32468843e-03],\n",
       "       [9.51982559e-01, 7.47555896e-05, 6.61205169e-03, 2.12533337e-02,\n",
       "        2.00773003e-02],\n",
       "       [2.07607531e-01, 1.65438449e-05, 1.37992236e-02, 6.64717407e-02,\n",
       "        7.12104961e-01],\n",
       "       [3.56693382e-01, 5.57462685e-01, 5.66915914e-02, 2.87065074e-02,\n",
       "        4.45833675e-04],\n",
       "       [6.82835994e-01, 2.87486420e-06, 4.78080490e-03, 2.58069786e-02,\n",
       "        2.86573348e-01],\n",
       "       [9.79569692e-01, 5.97989378e-04, 5.95430982e-03, 1.28841105e-02,\n",
       "        9.93897941e-04],\n",
       "       [9.29663141e-01, 9.01631175e-05, 1.18931662e-02, 2.49863083e-02,\n",
       "        3.33672210e-02],\n",
       "       [9.58275379e-01, 7.41318226e-03, 1.25648328e-02, 2.04034304e-02,\n",
       "        1.34317546e-03],\n",
       "       [9.79686733e-01, 8.93794676e-03, 4.99457222e-03, 6.36428755e-03,\n",
       "        1.64602873e-05],\n",
       "       [2.70221341e-01, 6.41652487e-01, 4.91628612e-02, 3.80706500e-02,\n",
       "        8.92661486e-04],\n",
       "       [1.48843073e-01, 7.37424884e-01, 6.63121111e-02, 4.63297531e-02,\n",
       "        1.09017904e-03],\n",
       "       [8.07167933e-01, 8.18687216e-02, 5.60121411e-02, 4.88850264e-02,\n",
       "        6.06617767e-03],\n",
       "       [2.69081649e-01, 4.20940852e-04, 2.77169335e-02, 8.68957723e-02,\n",
       "        6.15884704e-01],\n",
       "       [9.41068790e-01, 1.68021960e-02, 1.63334061e-02, 2.42371784e-02,\n",
       "        1.55842950e-03],\n",
       "       [9.64344454e-01, 1.36244635e-03, 1.36893967e-02, 1.82696890e-02,\n",
       "        2.33401378e-03],\n",
       "       [4.95064767e-01, 3.88478857e-01, 6.86455800e-02, 4.53655715e-02,\n",
       "        2.44522496e-03],\n",
       "       [8.65784477e-01, 6.01588972e-02, 3.00492093e-02, 4.02162776e-02,\n",
       "        3.79113878e-03],\n",
       "       [9.42937080e-01, 1.70380203e-04, 8.57970954e-03, 2.51560073e-02,\n",
       "        2.31568234e-02],\n",
       "       [9.79245478e-01, 6.17544021e-03, 7.70043137e-03, 6.85213381e-03,\n",
       "        2.65164631e-05],\n",
       "       [6.47100838e-01, 2.49809729e-01, 4.68986560e-02, 5.22946941e-02,\n",
       "        3.89608262e-03],\n",
       "       [5.94581919e-02, 4.42286065e-01, 1.92460249e-01, 1.61116860e-01,\n",
       "        1.44678634e-01],\n",
       "       [9.36841609e-01, 1.20814666e-02, 1.82230844e-02, 2.93475692e-02,\n",
       "        3.50627120e-03],\n",
       "       [9.41492914e-01, 5.65978979e-03, 1.67095155e-02, 3.02332685e-02,\n",
       "        5.90451233e-03],\n",
       "       [9.61139910e-01, 1.58991961e-03, 1.48496393e-02, 1.96323661e-02,\n",
       "        2.78816500e-03],\n",
       "       [9.27984572e-01, 1.25703002e-02, 2.74005458e-02, 2.86984250e-02,\n",
       "        3.34615673e-03],\n",
       "       [9.06398822e-01, 2.65496928e-02, 3.28166517e-02, 3.12912373e-02,\n",
       "        2.94359622e-03],\n",
       "       [6.35583270e-02, 1.07300870e-02, 7.10221814e-02, 1.51460255e-01,\n",
       "        7.03229150e-01],\n",
       "       [4.63725040e-01, 4.79797215e-01, 3.10824159e-02, 2.50524087e-02,\n",
       "        3.42920030e-04],\n",
       "       [1.13661834e-01, 7.56060133e-01, 7.38945314e-02, 5.43705892e-02,\n",
       "        2.01291263e-03]])"
      ]
     },
     "execution_count": 38,
     "metadata": {},
     "output_type": "execute_result"
    }
   ],
   "source": [
    "model.predict_proba(X_testss)"
   ]
  },
  {
   "cell_type": "code",
   "execution_count": 39,
   "id": "0f62de9b",
   "metadata": {},
   "outputs": [],
   "source": [
    "laccuracy=accuracy_score(y_test, y_predss) "
   ]
  },
  {
   "cell_type": "code",
   "execution_count": 40,
   "id": "e2469ccf",
   "metadata": {},
   "outputs": [
    {
     "name": "stdout",
     "output_type": "stream",
     "text": [
      "Test Set Accuracy : 81.25 %\n",
      "\n",
      "\n",
      "Classification Report : \n",
      "\n",
      "              precision    recall  f1-score   support\n",
      "\n",
      "           0       0.85      0.98      0.91        46\n",
      "           1       0.73      0.85      0.79        13\n",
      "           2       0.00      0.00      0.00         5\n",
      "           3       0.00      0.00      0.00         5\n",
      "           4       0.75      0.82      0.78        11\n",
      "\n",
      "    accuracy                           0.81        80\n",
      "   macro avg       0.47      0.53      0.50        80\n",
      "weighted avg       0.71      0.81      0.76        80\n",
      "\n"
     ]
    },
    {
     "name": "stderr",
     "output_type": "stream",
     "text": [
      "C:\\Users\\antoj\\anaconda3\\lib\\site-packages\\sklearn\\metrics\\_classification.py:1245: UndefinedMetricWarning: Precision and F-score are ill-defined and being set to 0.0 in labels with no predicted samples. Use `zero_division` parameter to control this behavior.\n",
      "  _warn_prf(average, modifier, msg_start, len(result))\n",
      "C:\\Users\\antoj\\anaconda3\\lib\\site-packages\\sklearn\\metrics\\_classification.py:1245: UndefinedMetricWarning: Precision and F-score are ill-defined and being set to 0.0 in labels with no predicted samples. Use `zero_division` parameter to control this behavior.\n",
      "  _warn_prf(average, modifier, msg_start, len(result))\n",
      "C:\\Users\\antoj\\anaconda3\\lib\\site-packages\\sklearn\\metrics\\_classification.py:1245: UndefinedMetricWarning: Precision and F-score are ill-defined and being set to 0.0 in labels with no predicted samples. Use `zero_division` parameter to control this behavior.\n",
      "  _warn_prf(average, modifier, msg_start, len(result))\n"
     ]
    }
   ],
   "source": [
    "print(f\"Test Set Accuracy : {accuracy_score(y_test, y_predss) * 100} %\\n\\n\")\n",
    "print(f\"Classification Report : \\n\\n{classification_report( y_test,y_predss)}\")"
   ]
  },
  {
   "cell_type": "code",
   "execution_count": null,
   "id": "b85e8870",
   "metadata": {},
   "outputs": [],
   "source": []
  },
  {
   "cell_type": "markdown",
   "id": "ac8d0409",
   "metadata": {},
   "source": [
    "### Decision Tree"
   ]
  },
  {
   "cell_type": "code",
   "execution_count": 41,
   "id": "41eb6283",
   "metadata": {},
   "outputs": [],
   "source": [
    "from sklearn.tree import DecisionTreeClassifier\n",
    "dtree_model = DecisionTreeClassifier(max_depth = 2).fit(X_train, y_train)\n",
    "dtree_predictions = dtree_model.predict(X_test)"
   ]
  },
  {
   "cell_type": "code",
   "execution_count": 42,
   "id": "f7a8928e",
   "metadata": {},
   "outputs": [
    {
     "data": {
      "text/plain": [
       "array([[40,  4,  0,  0,  2],\n",
       "       [ 0, 13,  0,  0,  0],\n",
       "       [ 2,  3,  0,  0,  0],\n",
       "       [ 2,  3,  0,  0,  0],\n",
       "       [ 0,  0,  0,  0, 11]], dtype=int64)"
      ]
     },
     "execution_count": 42,
     "metadata": {},
     "output_type": "execute_result"
    }
   ],
   "source": [
    "from sklearn.metrics import confusion_matrix\n",
    "cm = confusion_matrix(y_test, dtree_predictions)\n",
    "cm"
   ]
  },
  {
   "cell_type": "code",
   "execution_count": 43,
   "id": "6dcbd2b9",
   "metadata": {},
   "outputs": [
    {
     "data": {
      "text/plain": [
       "0.8"
      ]
     },
     "execution_count": 43,
     "metadata": {},
     "output_type": "execute_result"
    }
   ],
   "source": [
    "dtaccuracy = dtree_model.score(X_test, y_test)\n",
    "dtaccuracy"
   ]
  },
  {
   "cell_type": "markdown",
   "id": "47f77efc",
   "metadata": {},
   "source": [
    "### Support Vector Machine"
   ]
  },
  {
   "cell_type": "code",
   "execution_count": 44,
   "id": "e4b8b9eb",
   "metadata": {},
   "outputs": [],
   "source": [
    "from sklearn.svm import SVC\n",
    "svm = SVC(kernel = 'linear', C = 1).fit(X_train, y_train)\n",
    "svm_predictions = svm.predict(X_test)\n",
    " \n",
    "# model accuracy for X_test \n",
    "svmaccuracy = accuracy_score(y_test,svm_predictions)\n",
    "\n",
    "# creating a confusion matrix\n",
    "cm = confusion_matrix(y_test, svm_predictions)"
   ]
  },
  {
   "cell_type": "code",
   "execution_count": 45,
   "id": "2f68c3c2",
   "metadata": {},
   "outputs": [
    {
     "data": {
      "text/plain": [
       "0.825"
      ]
     },
     "execution_count": 45,
     "metadata": {},
     "output_type": "execute_result"
    }
   ],
   "source": [
    "svmaccuracy"
   ]
  },
  {
   "cell_type": "markdown",
   "id": "518690d4",
   "metadata": {},
   "source": [
    "### KNeighbourClassifier"
   ]
  },
  {
   "cell_type": "code",
   "execution_count": 46,
   "id": "16f21755",
   "metadata": {},
   "outputs": [
    {
     "name": "stdout",
     "output_type": "stream",
     "text": [
      "0.7\n"
     ]
    },
    {
     "data": {
      "text/plain": [
       "array([[43,  2,  0,  0,  1],\n",
       "       [ 9,  4,  0,  0,  0],\n",
       "       [ 5,  0,  0,  0,  0],\n",
       "       [ 5,  0,  0,  0,  0],\n",
       "       [ 2,  0,  0,  0,  9]], dtype=int64)"
      ]
     },
     "execution_count": 46,
     "metadata": {},
     "output_type": "execute_result"
    }
   ],
   "source": [
    "from sklearn.neighbors import KNeighborsClassifier\n",
    "knn = KNeighborsClassifier(n_neighbors = 7).fit(X_train, y_train)\n",
    "knn_predictions = knn.predict(X_test) \n",
    "# accuracy on X_test\n",
    "knnaccuracy = accuracy_score(y_test,knn_predictions)\n",
    "print (knnaccuracy)\n",
    " \n",
    "# creating a confusion matrix\n",
    "\n",
    "cm = confusion_matrix(y_test, knn_predictions)\n",
    "cm"
   ]
  },
  {
   "cell_type": "markdown",
   "id": "f2f12061",
   "metadata": {},
   "source": [
    "### Naivebias"
   ]
  },
  {
   "cell_type": "code",
   "execution_count": 47,
   "id": "38225b6b",
   "metadata": {},
   "outputs": [
    {
     "name": "stdout",
     "output_type": "stream",
     "text": [
      "0.8875\n"
     ]
    },
    {
     "data": {
      "text/plain": [
       "array([0])"
      ]
     },
     "execution_count": 47,
     "metadata": {},
     "output_type": "execute_result"
    }
   ],
   "source": [
    "from sklearn.naive_bayes import GaussianNB\n",
    "gnb = GaussianNB().fit(X_train, y_train)\n",
    "gnb_predictions = gnb.predict(X_test)\n",
    " \n",
    "# accuracy on X_test\n",
    "gnbaccuracy = accuracy_score(y_test,gnb_predictions )\n",
    "print(gnbaccuracy)\n",
    " \n",
    "# creating a confusion matrix\n",
    "cm = confusion_matrix(y_test, gnb_predictions)\n",
    "cm\n",
    "\n",
    "gnb.predict([[0,54,1]])"
   ]
  },
  {
   "cell_type": "code",
   "execution_count": 48,
   "id": "21181516",
   "metadata": {},
   "outputs": [
    {
     "name": "stdout",
     "output_type": "stream",
     "text": [
      "0.7125\n"
     ]
    }
   ],
   "source": [
    "from sklearn.naive_bayes import MultinomialNB\n",
    "mnb = MultinomialNB().fit(X_train, y_train)\n",
    "y_predmnb = mnb.predict(X_test)\n",
    " \n",
    "# accuracy on X_test\n",
    "mnbaccuracy = accuracy_score(y_test, y_predmnb)\n",
    "print(mnbaccuracy)"
   ]
  },
  {
   "cell_type": "markdown",
   "id": "6e808be9",
   "metadata": {},
   "source": [
    "### Random Forest"
   ]
  },
  {
   "cell_type": "code",
   "execution_count": 49,
   "id": "69b5f6ef",
   "metadata": {},
   "outputs": [],
   "source": [
    "from sklearn.ensemble import RandomForestClassifier\n",
    "rf = RandomForestClassifier(n_estimators = 10, criterion = 'entropy', random_state = 42)\n",
    "rf.fit(X_train, y_train)\n",
    "#Predicting the Test set results\n",
    "y_pred = rf.predict(X_test)\n",
    "rfaccuracy =accuracy_score(y_test, y_pred)"
   ]
  },
  {
   "cell_type": "code",
   "execution_count": 50,
   "id": "2e48e68d",
   "metadata": {},
   "outputs": [
    {
     "data": {
      "text/plain": [
       "0.8375"
      ]
     },
     "execution_count": 50,
     "metadata": {},
     "output_type": "execute_result"
    }
   ],
   "source": [
    "rfaccuracy"
   ]
  },
  {
   "cell_type": "markdown",
   "id": "93411742",
   "metadata": {},
   "source": [
    "### Feature_importances"
   ]
  },
  {
   "cell_type": "code",
   "execution_count": 74,
   "id": "decc1f30",
   "metadata": {},
   "outputs": [
    {
     "name": "stdout",
     "output_type": "stream",
     "text": [
      "feature: 0d, Score: 0.01330\n",
      "feature: 1d, Score: 0.39434\n",
      "feature: 2d, Score: 0.59236\n",
      "[[40  2  2  0  2]\n",
      " [ 0 12  1  0  0]\n",
      " [ 2  0  3  0  0]\n",
      " [ 2  0  1  2  0]\n",
      " [ 1  0  0  0 10]]\n",
      "Accuracy: 0.8375\n"
     ]
    }
   ],
   "source": [
    "import numpy as np\n",
    "from sklearn.metrics import confusion_matrix\n",
    "from sklearn.ensemble import RandomForestClassifier\n",
    "rfc = RandomForestClassifier(n_estimators = 200)#criterion = entopy,gini\n",
    "rfc.fit(X_train, np.ravel(y_train,order='C'))\n",
    "fi=rfc.feature_importances_\n",
    "for i,v in enumerate(fi):\n",
    "    print(\"feature: %od, Score: %.5f\"%(i,v))\n",
    "rfcpred = rfc.predict(X_test)\n",
    "cnf_matrix = confusion_matrix(y_test, rfcpred)\n",
    "print(cnf_matrix)\n",
    "print(\"Accuracy:\",accuracy_score(y_test, rfcpred))"
   ]
  },
  {
   "cell_type": "code",
   "execution_count": 51,
   "id": "20869da7",
   "metadata": {},
   "outputs": [
    {
     "name": "stdout",
     "output_type": "stream",
     "text": [
      "0.7125\n"
     ]
    }
   ],
   "source": [
    "from sklearn.naive_bayes import MultinomialNB\n",
    "\n",
    "\n",
    "\n",
    "clf =  MultinomialNB().fit(X_train, y_train)\n",
    "clf_predictions = clf.predict(X_test)\n",
    " \n",
    "# accuracy on X_test\n",
    "mnbaccuracy = accuracy_score(y_test,clf_predictions)\n",
    "print(mnbaccuracy)\n",
    " "
   ]
  },
  {
   "cell_type": "code",
   "execution_count": null,
   "id": "9de9c51f",
   "metadata": {},
   "outputs": [],
   "source": []
  },
  {
   "cell_type": "markdown",
   "id": "871d5e32",
   "metadata": {},
   "source": [
    "### ACCURACIES OF VARIOUS MODELS"
   ]
  },
  {
   "cell_type": "code",
   "execution_count": 52,
   "id": "b408f0c9",
   "metadata": {},
   "outputs": [
    {
     "name": "stdout",
     "output_type": "stream",
     "text": [
      " Accuracy of KNN model : 70.0 %\n",
      "\n",
      "\n",
      " Accuracy of SVM model : 82.5 %\n",
      "\n",
      "\n",
      " Accuracy of Logistic Regression model : 81.25 %\n",
      "\n",
      "\n",
      " Accuracy of Decision Tree model : 80.0 %\n",
      "\n",
      "\n",
      " Accuracy of Naivebias GaussianNB model : 88.75 %\n",
      "\n",
      "\n",
      " Accuracy of Naivebias MultinomialNB model : 71.25 %\n",
      "\n",
      "\n",
      " Accuracy of Random Forest : 83.75 %\n",
      "\n",
      "\n"
     ]
    }
   ],
   "source": [
    "print(f\" Accuracy of KNN model : {knnaccuracy * 100} %\\n\\n\")\n",
    "print(f\" Accuracy of SVM model : {svmaccuracy * 100} %\\n\\n\")\n",
    "print(f\" Accuracy of Logistic Regression model : {laccuracy * 100} %\\n\\n\")\n",
    "print(f\" Accuracy of Decision Tree model : {dtaccuracy * 100} %\\n\\n\")\n",
    "print(f\" Accuracy of Naivebias GaussianNB model : {gnbaccuracy * 100} %\\n\\n\")\n",
    "print(f\" Accuracy of Naivebias MultinomialNB model : {mnbaccuracy * 100} %\\n\\n\")\n",
    "print(f\" Accuracy of Random Forest : {rfaccuracy * 100} %\\n\\n\")"
   ]
  },
  {
   "cell_type": "code",
   "execution_count": 53,
   "id": "71edcaba",
   "metadata": {},
   "outputs": [
    {
     "data": {
      "text/plain": [
       "array([0])"
      ]
     },
     "execution_count": 53,
     "metadata": {},
     "output_type": "execute_result"
    }
   ],
   "source": [
    "rf.predict([[0,34,70000]])"
   ]
  },
  {
   "cell_type": "code",
   "execution_count": null,
   "id": "1388eee7",
   "metadata": {},
   "outputs": [],
   "source": []
  },
  {
   "cell_type": "markdown",
   "id": "a647f88a",
   "metadata": {},
   "source": [
    "## Visualizations"
   ]
  },
  {
   "cell_type": "code",
   "execution_count": 54,
   "id": "e278d298",
   "metadata": {},
   "outputs": [],
   "source": [
    "import matplotlib.pyplot as plt"
   ]
  },
  {
   "cell_type": "code",
   "execution_count": 55,
   "id": "8d253aae",
   "metadata": {},
   "outputs": [
    {
     "data": {
      "image/png": "[encoded data removed]",
      "text/plain": [
       "<Figure size 432x288 with 1 Axes>"
      ]
     },
     "metadata": {
      "needs_background": "light"
     },
     "output_type": "display_data"
    }
   ],
   "source": [
    "x = df1['Salary']\n",
    "y = df1['Age']\n",
    "\n",
    "plt.scatter(x,y, marker=\"o\", s=25, edgecolor=\"k\")\n",
    "plt.show()"
   ]
  },
  {
   "cell_type": "code",
   "execution_count": 56,
   "id": "da40c1d7",
   "metadata": {},
   "outputs": [],
   "source": [
    "import seaborn as sns"
   ]
  },
  {
   "cell_type": "code",
   "execution_count": 57,
   "id": "3c05f61e",
   "metadata": {},
   "outputs": [
    {
     "data": {
      "text/plain": [
       "<seaborn.axisgrid.FacetGrid at 0x1c5e8408c70>"
      ]
     },
     "execution_count": 57,
     "metadata": {},
     "output_type": "execute_result"
    },
    {
     "data": {
      "image/png": "[encoded data removed]",
      "text/plain": [
       "<Figure size 450.625x360 with 1 Axes>"
      ]
     },
     "metadata": {
      "needs_background": "light"
     },
     "output_type": "display_data"
    }
   ],
   "source": [
    "sns.relplot(x='Age',y='Salary',hue='Purchase Iphone',data=df)"
   ]
  },
  {
   "cell_type": "code",
   "execution_count": 58,
   "id": "aa94727e",
   "metadata": {},
   "outputs": [
    {
     "data": {
      "text/plain": [
       "<seaborn.axisgrid.FacetGrid at 0x1c5e83523a0>"
      ]
     },
     "execution_count": 58,
     "metadata": {},
     "output_type": "execute_result"
    },
    {
     "data": {
      "image/png": "[encoded data removed]",
      "text/plain": [
       "<Figure size 450.625x360 with 1 Axes>"
      ]
     },
     "metadata": {
      "needs_background": "light"
     },
     "output_type": "display_data"
    }
   ],
   "source": [
    "y=df1['Salary']\n",
    "sns.catplot(x='Gender',y='Salary',hue='Purchase Iphone',kind='bar',data=df)"
   ]
  },
  {
   "cell_type": "code",
   "execution_count": 61,
   "id": "3da0b603",
   "metadata": {},
   "outputs": [
    {
     "data": {
      "text/plain": [
       "<function matplotlib.pyplot.show(close=None, block=None)>"
      ]
     },
     "execution_count": 61,
     "metadata": {},
     "output_type": "execute_result"
    },
    {
     "data": {
      "image/png": "[encoded data removed]",
      "text/plain": [
       "<Figure size 432x288 with 1 Axes>"
      ]
     },
     "metadata": {
      "needs_background": "light"
     },
     "output_type": "display_data"
    }
   ],
   "source": [
    "sns.countplot(x='Purchase Iphone',data=df1,palette='bwr')\n",
    "plt.xlabel(\"Purchase Iphone(0=Not buying iphone)\")\n",
    "plt.show"
   ]
  },
  {
   "cell_type": "code",
   "execution_count": 68,
   "id": "8af2b82a",
   "metadata": {},
   "outputs": [
    {
     "data": {
      "text/plain": [
       "<function matplotlib.pyplot.show(close=None, block=None)>"
      ]
     },
     "execution_count": 68,
     "metadata": {},
     "output_type": "execute_result"
    },
    {
     "data": {
      "image/png": "[encoded data removed]",
      "text/plain": [
       "<Figure size 432x288 with 1 Axes>"
      ]
     },
     "metadata": {
      "needs_background": "light"
     },
     "output_type": "display_data"
    }
   ],
   "source": [
    "sns.countplot(x='Gender',data=df1,palette='bwr')\n",
    "\n",
    "plt.show"
   ]
  },
  {
   "cell_type": "code",
   "execution_count": null,
   "id": "e149334d",
   "metadata": {},
   "outputs": [],
   "source": []
  },
  {
   "cell_type": "code",
   "execution_count": 62,
   "id": "0b13f10d",
   "metadata": {},
   "outputs": [
    {
     "data": {
      "text/plain": [
       "<function matplotlib.pyplot.show(close=None, block=None)>"
      ]
     },
     "execution_count": 62,
     "metadata": {},
     "output_type": "execute_result"
    },
    {
     "data": {
      "image/png": "[encoded data removed]",
      "text/plain": [
       "<Figure size 432x288 with 1 Axes>"
      ]
     },
     "metadata": {
      "needs_background": "light"
     },
     "output_type": "display_data"
    }
   ],
   "source": [
    "sns.countplot(x='Age',data=df1,palette='mako_r')\n",
    "\n",
    "plt.show"
   ]
  },
  {
   "cell_type": "code",
   "execution_count": 176,
   "id": "470cd72b",
   "metadata": {},
   "outputs": [
    {
     "name": "stdout",
     "output_type": "stream",
     "text": [
      "Percentage of old customers bought iphone(age>30):74.81%\n",
      "Percentage of young customers bought iphone(age<30):25.19%\n"
     ]
    }
   ],
   "source": [
    "old=len(df1[df1.Age>=30])\n",
    "teen=len(df1[df1.Age<=29])\n",
    "print('Percentage of old customers bought iphone(age>30):{:.2f}%'.format((old/(len(df1.Age))*100)))\n",
    "print('Percentage of young customers bought iphone(age<30):{:.2f}%'.format((teen/(len(df1.Age))*100)))"
   ]
  },
  {
   "cell_type": "code",
   "execution_count": 78,
   "id": "23774c47",
   "metadata": {},
   "outputs": [
    {
     "name": "stdout",
     "output_type": "stream",
     "text": [
      "Percentage of customers with high salary(more than 30k):86.65%\n",
      "Percentage of customers with not so high salary(not more than 30k) :14.36%\n"
     ]
    }
   ],
   "source": [
    "less_sal=len(df1[df1.Salary>=30000])\n",
    "high_sal=len(df1[df1.Salary<=30000])\n",
    "print('Percentage of customers with high salary(more than 30k):{:.2f}%'.format((less_sal/(len(df1.Salary))*100)))\n",
    "print('Percentage of customers with not so high salary(not more than 30k) :{:.2f}%'.format((high_sal/(len(df1.Salary))*100)))"
   ]
  },
  {
   "cell_type": "code",
   "execution_count": 105,
   "id": "50d44881",
   "metadata": {},
   "outputs": [
    {
     "data": {
      "text/html": [
       "<div>\n",
       "<style scoped>\n",
       "    .dataframe tbody tr th:only-of-type {\n",
       "        vertical-align: middle;\n",
       "    }\n",
       "\n",
       "    .dataframe tbody tr th {\n",
       "        vertical-align: top;\n",
       "    }\n",
       "\n",
       "    .dataframe thead th {\n",
       "        text-align: right;\n",
       "    }\n",
       "</style>\n",
       "<table border=\"1\" class=\"dataframe\">\n",
       "  <thead>\n",
       "    <tr style=\"text-align: right;\">\n",
       "      <th></th>\n",
       "      <th>Gender</th>\n",
       "      <th>Age</th>\n",
       "      <th>Salary</th>\n",
       "      <th>Purchase Iphone</th>\n",
       "    </tr>\n",
       "  </thead>\n",
       "  <tbody>\n",
       "    <tr>\n",
       "      <th>5</th>\n",
       "      <td>Female</td>\n",
       "      <td>47</td>\n",
       "      <td>49000</td>\n",
       "      <td>iphone11</td>\n",
       "    </tr>\n",
       "    <tr>\n",
       "      <th>6</th>\n",
       "      <td>Male</td>\n",
       "      <td>48</td>\n",
       "      <td>41000</td>\n",
       "      <td>iphone11</td>\n",
       "    </tr>\n",
       "    <tr>\n",
       "      <th>11</th>\n",
       "      <td>Female</td>\n",
       "      <td>47</td>\n",
       "      <td>30000</td>\n",
       "      <td>iphone11</td>\n",
       "    </tr>\n",
       "    <tr>\n",
       "      <th>12</th>\n",
       "      <td>Male</td>\n",
       "      <td>60</td>\n",
       "      <td>42000</td>\n",
       "      <td>iphone11</td>\n",
       "    </tr>\n",
       "    <tr>\n",
       "      <th>14</th>\n",
       "      <td>Female</td>\n",
       "      <td>52</td>\n",
       "      <td>38000</td>\n",
       "      <td>iphone11</td>\n",
       "    </tr>\n",
       "    <tr>\n",
       "      <th>...</th>\n",
       "      <td>...</td>\n",
       "      <td>...</td>\n",
       "      <td>...</td>\n",
       "      <td>...</td>\n",
       "    </tr>\n",
       "    <tr>\n",
       "      <th>392</th>\n",
       "      <td>Female</td>\n",
       "      <td>42</td>\n",
       "      <td>53000</td>\n",
       "      <td>0</td>\n",
       "    </tr>\n",
       "    <tr>\n",
       "      <th>393</th>\n",
       "      <td>Male</td>\n",
       "      <td>42</td>\n",
       "      <td>64000</td>\n",
       "      <td>0</td>\n",
       "    </tr>\n",
       "    <tr>\n",
       "      <th>394</th>\n",
       "      <td>Male</td>\n",
       "      <td>39</td>\n",
       "      <td>71000</td>\n",
       "      <td>0</td>\n",
       "    </tr>\n",
       "    <tr>\n",
       "      <th>395</th>\n",
       "      <td>Female</td>\n",
       "      <td>39</td>\n",
       "      <td>59000</td>\n",
       "      <td>0</td>\n",
       "    </tr>\n",
       "    <tr>\n",
       "      <th>396</th>\n",
       "      <td>Male</td>\n",
       "      <td>36</td>\n",
       "      <td>33000</td>\n",
       "      <td>0</td>\n",
       "    </tr>\n",
       "  </tbody>\n",
       "</table>\n",
       "<p>265 rows × 4 columns</p>\n",
       "</div>"
      ],
      "text/plain": [
       "     Gender  Age  Salary Purchase Iphone\n",
       "5    Female   47   49000        iphone11\n",
       "6      Male   48   41000        iphone11\n",
       "11   Female   47   30000        iphone11\n",
       "12     Male   60   42000        iphone11\n",
       "14   Female   52   38000        iphone11\n",
       "..      ...  ...     ...             ...\n",
       "392  Female   42   53000               0\n",
       "393    Male   42   64000               0\n",
       "394    Male   39   71000               0\n",
       "395  Female   39   59000               0\n",
       "396    Male   36   33000               0\n",
       "\n",
       "[265 rows x 4 columns]"
      ]
     },
     "execution_count": 105,
     "metadata": {},
     "output_type": "execute_result"
    }
   ],
   "source": []
  },
  {
   "cell_type": "code",
   "execution_count": 69,
   "id": "27987539",
   "metadata": {},
   "outputs": [
    {
     "data": {
      "text/html": [
       "<div>\n",
       "<style scoped>\n",
       "    .dataframe tbody tr th:only-of-type {\n",
       "        vertical-align: middle;\n",
       "    }\n",
       "\n",
       "    .dataframe tbody tr th {\n",
       "        vertical-align: top;\n",
       "    }\n",
       "\n",
       "    .dataframe thead th {\n",
       "        text-align: right;\n",
       "    }\n",
       "</style>\n",
       "<table border=\"1\" class=\"dataframe\">\n",
       "  <thead>\n",
       "    <tr style=\"text-align: right;\">\n",
       "      <th></th>\n",
       "      <th>Gender</th>\n",
       "      <th>Age</th>\n",
       "      <th>Salary</th>\n",
       "      <th>Purchase Iphone</th>\n",
       "    </tr>\n",
       "  </thead>\n",
       "  <tbody>\n",
       "    <tr>\n",
       "      <th>0</th>\n",
       "      <td>Male</td>\n",
       "      <td>47</td>\n",
       "      <td>25000</td>\n",
       "      <td>iphone11</td>\n",
       "    </tr>\n",
       "    <tr>\n",
       "      <th>1</th>\n",
       "      <td>Male</td>\n",
       "      <td>45</td>\n",
       "      <td>26000</td>\n",
       "      <td>iphone11</td>\n",
       "    </tr>\n",
       "    <tr>\n",
       "      <th>2</th>\n",
       "      <td>Male</td>\n",
       "      <td>46</td>\n",
       "      <td>28000</td>\n",
       "      <td>iphone11</td>\n",
       "    </tr>\n",
       "    <tr>\n",
       "      <th>3</th>\n",
       "      <td>Female</td>\n",
       "      <td>48</td>\n",
       "      <td>29000</td>\n",
       "      <td>iphone11</td>\n",
       "    </tr>\n",
       "    <tr>\n",
       "      <th>4</th>\n",
       "      <td>Male</td>\n",
       "      <td>45</td>\n",
       "      <td>22000</td>\n",
       "      <td>iphone11</td>\n",
       "    </tr>\n",
       "    <tr>\n",
       "      <th>...</th>\n",
       "      <td>...</td>\n",
       "      <td>...</td>\n",
       "      <td>...</td>\n",
       "      <td>...</td>\n",
       "    </tr>\n",
       "    <tr>\n",
       "      <th>392</th>\n",
       "      <td>Female</td>\n",
       "      <td>42</td>\n",
       "      <td>53000</td>\n",
       "      <td>0</td>\n",
       "    </tr>\n",
       "    <tr>\n",
       "      <th>393</th>\n",
       "      <td>Male</td>\n",
       "      <td>42</td>\n",
       "      <td>64000</td>\n",
       "      <td>0</td>\n",
       "    </tr>\n",
       "    <tr>\n",
       "      <th>394</th>\n",
       "      <td>Male</td>\n",
       "      <td>39</td>\n",
       "      <td>71000</td>\n",
       "      <td>0</td>\n",
       "    </tr>\n",
       "    <tr>\n",
       "      <th>395</th>\n",
       "      <td>Female</td>\n",
       "      <td>39</td>\n",
       "      <td>59000</td>\n",
       "      <td>0</td>\n",
       "    </tr>\n",
       "    <tr>\n",
       "      <th>396</th>\n",
       "      <td>Male</td>\n",
       "      <td>36</td>\n",
       "      <td>33000</td>\n",
       "      <td>0</td>\n",
       "    </tr>\n",
       "  </tbody>\n",
       "</table>\n",
       "<p>397 rows × 4 columns</p>\n",
       "</div>"
      ],
      "text/plain": [
       "     Gender  Age  Salary Purchase Iphone\n",
       "0      Male   47   25000        iphone11\n",
       "1      Male   45   26000        iphone11\n",
       "2      Male   46   28000        iphone11\n",
       "3    Female   48   29000        iphone11\n",
       "4      Male   45   22000        iphone11\n",
       "..      ...  ...     ...             ...\n",
       "392  Female   42   53000               0\n",
       "393    Male   42   64000               0\n",
       "394    Male   39   71000               0\n",
       "395  Female   39   59000               0\n",
       "396    Male   36   33000               0\n",
       "\n",
       "[397 rows x 4 columns]"
      ]
     },
     "execution_count": 69,
     "metadata": {},
     "output_type": "execute_result"
    }
   ],
   "source": [
    "df1"
   ]
  },
  {
   "cell_type": "code",
   "execution_count": 125,
   "id": "c566e241",
   "metadata": {},
   "outputs": [
    {
     "data": {
      "text/plain": [
       "0      1\n",
       "1      1\n",
       "2      1\n",
       "3      1\n",
       "4      1\n",
       "      ..\n",
       "392    0\n",
       "393    0\n",
       "394    0\n",
       "395    0\n",
       "396    0\n",
       "Name: Purchase Iphone, Length: 397, dtype: int32"
      ]
     },
     "execution_count": 125,
     "metadata": {},
     "output_type": "execute_result"
    }
   ],
   "source": [
    "df1['Purchase Iphone'].astype(int)"
   ]
  },
  {
   "cell_type": "code",
   "execution_count": 175,
   "id": "877d65fe",
   "metadata": {},
   "outputs": [
    {
     "data": {
      "text/html": [
       "<div>\n",
       "<style scoped>\n",
       "    .dataframe tbody tr th:only-of-type {\n",
       "        vertical-align: middle;\n",
       "    }\n",
       "\n",
       "    .dataframe tbody tr th {\n",
       "        vertical-align: top;\n",
       "    }\n",
       "\n",
       "    .dataframe thead th {\n",
       "        text-align: right;\n",
       "    }\n",
       "</style>\n",
       "<table border=\"1\" class=\"dataframe\">\n",
       "  <thead>\n",
       "    <tr style=\"text-align: right;\">\n",
       "      <th></th>\n",
       "      <th>Gender</th>\n",
       "      <th>Age</th>\n",
       "      <th>Salary</th>\n",
       "      <th>Purchase Iphone</th>\n",
       "    </tr>\n",
       "  </thead>\n",
       "  <tbody>\n",
       "    <tr>\n",
       "      <th>58</th>\n",
       "      <td>1</td>\n",
       "      <td>27</td>\n",
       "      <td>96000</td>\n",
       "      <td>3</td>\n",
       "    </tr>\n",
       "    <tr>\n",
       "      <th>79</th>\n",
       "      <td>1</td>\n",
       "      <td>27</td>\n",
       "      <td>137000</td>\n",
       "      <td>4</td>\n",
       "    </tr>\n",
       "    <tr>\n",
       "      <th>84</th>\n",
       "      <td>0</td>\n",
       "      <td>28</td>\n",
       "      <td>123000</td>\n",
       "      <td>4</td>\n",
       "    </tr>\n",
       "    <tr>\n",
       "      <th>88</th>\n",
       "      <td>0</td>\n",
       "      <td>29</td>\n",
       "      <td>148000</td>\n",
       "      <td>4</td>\n",
       "    </tr>\n",
       "    <tr>\n",
       "      <th>142</th>\n",
       "      <td>1</td>\n",
       "      <td>26</td>\n",
       "      <td>43000</td>\n",
       "      <td>0</td>\n",
       "    </tr>\n",
       "    <tr>\n",
       "      <th>...</th>\n",
       "      <td>...</td>\n",
       "      <td>...</td>\n",
       "      <td>...</td>\n",
       "      <td>...</td>\n",
       "    </tr>\n",
       "    <tr>\n",
       "      <th>306</th>\n",
       "      <td>0</td>\n",
       "      <td>29</td>\n",
       "      <td>43000</td>\n",
       "      <td>0</td>\n",
       "    </tr>\n",
       "    <tr>\n",
       "      <th>307</th>\n",
       "      <td>0</td>\n",
       "      <td>19</td>\n",
       "      <td>70000</td>\n",
       "      <td>0</td>\n",
       "    </tr>\n",
       "    <tr>\n",
       "      <th>308</th>\n",
       "      <td>0</td>\n",
       "      <td>28</td>\n",
       "      <td>89000</td>\n",
       "      <td>0</td>\n",
       "    </tr>\n",
       "    <tr>\n",
       "      <th>311</th>\n",
       "      <td>1</td>\n",
       "      <td>20</td>\n",
       "      <td>36000</td>\n",
       "      <td>0</td>\n",
       "    </tr>\n",
       "    <tr>\n",
       "      <th>312</th>\n",
       "      <td>0</td>\n",
       "      <td>26</td>\n",
       "      <td>80000</td>\n",
       "      <td>0</td>\n",
       "    </tr>\n",
       "  </tbody>\n",
       "</table>\n",
       "<p>79 rows × 4 columns</p>\n",
       "</div>"
      ],
      "text/plain": [
       "     Gender  Age  Salary Purchase Iphone\n",
       "58        1   27   96000               3\n",
       "79        1   27  137000               4\n",
       "84        0   28  123000               4\n",
       "88        0   29  148000               4\n",
       "142       1   26   43000               0\n",
       "..      ...  ...     ...             ...\n",
       "306       0   29   43000               0\n",
       "307       0   19   70000               0\n",
       "308       0   28   89000               0\n",
       "311       1   20   36000               0\n",
       "312       0   26   80000               0\n",
       "\n",
       "[79 rows x 4 columns]"
      ]
     },
     "execution_count": 175,
     "metadata": {},
     "output_type": "execute_result"
    }
   ],
   "source": [
    "a=df1.loc[(df1['Age']<30)&(df1['Salary']>=30000)]\n",
    "a[a['Purchase Iphone']!=0]"
   ]
  },
  {
   "cell_type": "code",
   "execution_count": 156,
   "id": "b6516681",
   "metadata": {},
   "outputs": [
    {
     "data": {
      "text/html": [
       "<div>\n",
       "<style scoped>\n",
       "    .dataframe tbody tr th:only-of-type {\n",
       "        vertical-align: middle;\n",
       "    }\n",
       "\n",
       "    .dataframe tbody tr th {\n",
       "        vertical-align: top;\n",
       "    }\n",
       "\n",
       "    .dataframe thead th {\n",
       "        text-align: right;\n",
       "    }\n",
       "</style>\n",
       "<table border=\"1\" class=\"dataframe\">\n",
       "  <thead>\n",
       "    <tr style=\"text-align: right;\">\n",
       "      <th></th>\n",
       "      <th>Gender</th>\n",
       "      <th>Age</th>\n",
       "      <th>Salary</th>\n",
       "      <th>Purchase Iphone</th>\n",
       "    </tr>\n",
       "  </thead>\n",
       "  <tbody>\n",
       "  </tbody>\n",
       "</table>\n",
       "</div>"
      ],
      "text/plain": [
       "Empty DataFrame\n",
       "Columns: [Gender, Age, Salary, Purchase Iphone]\n",
       "Index: []"
      ]
     },
     "execution_count": 156,
     "metadata": {},
     "output_type": "execute_result"
    }
   ],
   "source": [
    "df1.loc[df1['Purchase Iphone']==0]"
   ]
  },
  {
   "cell_type": "code",
   "execution_count": 144,
   "id": "e2e43c66",
   "metadata": {},
   "outputs": [
    {
     "data": {
      "text/plain": [
       "0    257\n",
       "4     62\n",
       "1     43\n",
       "3     20\n",
       "2     15\n",
       "Name: Purchase Iphone, dtype: int64"
      ]
     },
     "execution_count": 144,
     "metadata": {},
     "output_type": "execute_result"
    }
   ],
   "source": [
    "df1['Purchase Iphone'].value_counts()"
   ]
  },
  {
   "cell_type": "code",
   "execution_count": null,
   "id": "640c393c",
   "metadata": {},
   "outputs": [],
   "source": []
  }
 ],
 "metadata": {
  "kernelspec": {
   "display_name": "Python 3",
   "language": "python",
   "name": "python3"
  },
  "language_info": {
   "codemirror_mode": {
    "name": "ipython",
    "version": 3
   },
   "file_extension": ".py",
   "mimetype": "text/x-python",
   "name": "python",
   "nbconvert_exporter": "python",
   "pygments_lexer": "ipython3",
   "version": "3.8.8"
  }
 },
 "nbformat": 4,
 "nbformat_minor": 5
}
